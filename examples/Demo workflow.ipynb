{
 "cells": [
  {
   "cell_type": "code",
   "execution_count": null,
   "metadata": {},
   "outputs": [],
   "source": [
    "# add root folder of the project to path\n",
    "import sys\n",
    "sys.path.insert(0, '..')"
   ]
  },
  {
   "attachments": {},
   "cell_type": "markdown",
   "metadata": {},
   "source": [
    "# Setup FE cluster"
   ]
  },
  {
   "cell_type": "code",
   "execution_count": null,
   "metadata": {},
   "outputs": [],
   "source": [
    "from FEcluster.cluster import Cluster\n",
    "\n",
    "cst = Cluster(hosts_conf='.\\\\temp\\\\hosts.yml')"
   ]
  },
  {
   "cell_type": "code",
   "execution_count": null,
   "metadata": {},
   "outputs": [],
   "source": [
    "cst.launch_service( \n",
    "    mentat_host=\"127.0.0.1\",\n",
    "    mentat_port=40007,\n",
    "    mentat_cwd=\"D:\\\\knpob\\\\20230613-FE cluster\\\\examples\\\\temp\"\n",
    "    )"
   ]
  },
  {
   "attachments": {},
   "cell_type": "markdown",
   "metadata": {},
   "source": [
    "# Setup tasks"
   ]
  },
  {
   "cell_type": "code",
   "execution_count": null,
   "metadata": {},
   "outputs": [],
   "source": [
    "import os\n",
    "from FEcluster import mentat, host, task\n",
    "\n",
    "class Task_demo(task.Task):\n",
    "    def __init__(self, c10: float = 0.00015, **kwargs):\n",
    "        super().__init__(**kwargs)\n",
    "        self.task_name = f\"c10 {c10}\"\n",
    "        self.c10 = c10\n",
    "\n",
    "    def mentat(self, mentat_obj: mentat.Mentat):\n",
    "        # open model\n",
    "        mentat_obj.open_model('base_model.mud')\n",
    "\n",
    "        # adjust hyper-elaster parameters\n",
    "        procs = [\n",
    "            '*edit_mater breast',\n",
    "            f'*mater_param structural:mooney_c10 {self.c10}',\n",
    "            ]\n",
    "        mentat_obj.exec_procs(procs)\n",
    "\n",
    "        # adjust loadcases settings\n",
    "        procs = [\n",
    "            '*edit_loadcase lcase1',\n",
    "            '*loadcase_option stepping:fixed',\n",
    "            '*loadcase_value time 0.02',\n",
    "            '*loadcase_value nsteps 2',\n",
    "            '*edit_loadcase lcase2',\n",
    "            '*loadcase_value time 0.02',\n",
    "            '*loadcase_value nsteps 100',\n",
    "            ]\n",
    "        mentat_obj.exec_procs(procs)\n",
    "\n",
    "        # export .dat file and close model\n",
    "        mentat_obj.export_dat(\n",
    "            export_folder=self.task_name,\n",
    "            export_name='task',\n",
    "            )\n",
    "        mentat_obj.close_model()\n",
    "        mentat_obj.write_log(self.task_name, 'generate .dat file')\n",
    "\n",
    "    def job(self, host_session: host.HostSession):\n",
    "        # setup host session\n",
    "        local_cwd = os.path.join('D:\\\\knpob\\\\20230613-FE cluster\\\\examples\\\\temp', self.task_name)\n",
    "        remote_cwd = os.path.join('D:\\\\knpob\\\\temp', self.task_name)\n",
    "        host_session.setup(local_cwd, remote_cwd, self.task_name)\n",
    "\n",
    "        # put .dat file to remote folder\n",
    "        host_session.put_file('task.dat')\n",
    "\n",
    "        # launch simulation\n",
    "        command = f'& \"{host_session.marc}\" -jid \"task\" -back yes -nps {self.nps} -nts {self.nts} -nte {self.nte} -nsolver {self.nsolver}'\n",
    "        host_session.remote_shell_exec(command)\n",
    "\n",
    "        # get simulation results\n",
    "        # ISSUE: all t16 files are needed\n",
    "        host_session.get_file('task.sts')\n",
    "        host_session.get_file('task.t16')\n",
    "\n",
    "    def watch(self, host_session: host.HostSession):\n",
    "        pass"
   ]
  },
  {
   "cell_type": "code",
   "execution_count": null,
   "metadata": {},
   "outputs": [],
   "source": [
    "compute_settings = {'nts': 2, 'nps': 2, 'nte': 2, 'nsolver': 2}\n",
    "\n",
    "task1 = Task_demo(c10=0.00010, **compute_settings)\n",
    "task2 = Task_demo(c10=0.00015, **compute_settings)\n",
    "task3 = Task_demo(c10=0.00020, **compute_settings)"
   ]
  },
  {
   "attachments": {},
   "cell_type": "markdown",
   "metadata": {},
   "source": [
    "# Submit tasks"
   ]
  },
  {
   "cell_type": "code",
   "execution_count": null,
   "metadata": {},
   "outputs": [],
   "source": [
    "cst.submit_task(task1)\n",
    "cst.submit_task(task2)\n",
    "cst.submit_task(task3)"
   ]
  },
  {
   "cell_type": "code",
   "execution_count": null,
   "metadata": {},
   "outputs": [],
   "source": []
  }
 ],
 "metadata": {
  "kernelspec": {
   "display_name": "marc",
   "language": "python",
   "name": "python3"
  },
  "language_info": {
   "codemirror_mode": {
    "name": "ipython",
    "version": 3
   },
   "file_extension": ".py",
   "mimetype": "text/x-python",
   "name": "python",
   "nbconvert_exporter": "python",
   "pygments_lexer": "ipython3",
   "version": "3.6.13"
  }
 },
 "nbformat": 4,
 "nbformat_minor": 2
}
