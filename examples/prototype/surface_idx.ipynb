{
 "cells": [
  {
   "cell_type": "code",
   "execution_count": null,
   "metadata": {},
   "outputs": [],
   "source": [
    "# read plot file whose header contains all selected nodes' indices\n",
    "plot_path = \"../../data/raw_node_id.txt\"\n",
    "\n",
    "with open(plot_path) as file:\n",
    "    content = file.readlines()\n",
    "\n",
    "header = content[0]\n",
    "header"
   ]
  },
  {
   "cell_type": "code",
   "execution_count": null,
   "metadata": {},
   "outputs": [],
   "source": [
    "# extract the all indices behind the \"Node \" text\n",
    "import re\n",
    "\n",
    "indices_str = re.findall(\"(?<=Node )[0-9]+\", header)\n",
    "indices_str\n"
   ]
  },
  {
   "cell_type": "code",
   "execution_count": null,
   "metadata": {},
   "outputs": [],
   "source": [
    "# transform items in indices_str from str to int\n",
    "indices = list(map(int, indices_str))\n",
    "indices"
   ]
  },
  {
   "cell_type": "code",
   "execution_count": null,
   "metadata": {},
   "outputs": [],
   "source": [
    "# save indices list as local file\n",
    "import os\n",
    "import pickle\n",
    "\n",
    "export_folder = \"../../data/\"\n",
    "\n",
    "with open(os.path.join(export_folder, 'surf_node_id.pkl'), 'wb') as file:\n",
    "    pickle.dump(indices, file)"
   ]
  },
  {
   "cell_type": "code",
   "execution_count": null,
   "metadata": {},
   "outputs": [],
   "source": [
    "# load pickled file to verify\n",
    "with open(os.path.join(export_folder, 'surf_node_id.pkl'), 'rb') as file:\n",
    "    indices_load = pickle.load(file)\n",
    "    \n",
    "indices_load"
   ]
  },
  {
   "cell_type": "code",
   "execution_count": null,
   "metadata": {},
   "outputs": [],
   "source": []
  }
 ],
 "metadata": {
  "kernelspec": {
   "display_name": "marc",
   "language": "python",
   "name": "python3"
  },
  "language_info": {
   "codemirror_mode": {
    "name": "ipython",
    "version": 3
   },
   "file_extension": ".py",
   "mimetype": "text/x-python",
   "name": "python",
   "nbconvert_exporter": "python",
   "pygments_lexer": "ipython3",
   "version": "3.6.13"
  }
 },
 "nbformat": 4,
 "nbformat_minor": 2
}
