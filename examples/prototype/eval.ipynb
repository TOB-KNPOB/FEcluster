{
 "cells": [
  {
   "cell_type": "code",
   "execution_count": 1,
   "metadata": {},
   "outputs": [],
   "source": [
    "# add mesh4d package folder to path\n",
    "import sys\n",
    "sys.path.insert(0, 'D:\\\\knpob\\\\20220723-Mesh4D')\n",
    "\n",
    "# mesh loading settingsx\n",
    "meshes_path = \"D:\\\\knpob\\\\20220723-Mesh4D\\\\data\\\\meshes\\\\6kmh_braless_26markers\"\n",
    "start=0\n",
    "stride = 12\n",
    "end=120\n",
    "\n",
    "# fe file path\n",
    "regist_path = \"..\\\\temp\\\\regist\"\n",
    "# fe_path = \"..\\\\temp\\\\c10 init\"\n",
    "# fe_path = \"..\\\\temp\\\\c10 0.00015\"\n",
    "# fe_path = \"..\\\\temp\\\\c10 0.0001\"\n",
    "# fe_path = \"..\\\\temp\\\\c10 0.0002\"\n",
    "fe_path = \"..\\\\temp\\\\traced\""
   ]
  },
  {
   "attachments": {},
   "cell_type": "markdown",
   "metadata": {},
   "source": [
    "# Load 4D scanning sequence"
   ]
  },
  {
   "cell_type": "code",
   "execution_count": 2,
   "metadata": {},
   "outputs": [
    {
     "name": "stdout",
     "output_type": "stream",
     "text": [
      "Jupyter environment detected. Enabling Open3D WebVisualizer.\n",
      "[Open3D INFO] WebRTC GUI backend enabled.\n",
      "[Open3D INFO] WebRTCWindowSystem: HTTP handshake server disabled.\n",
      "[====================] 100.0% loading: D:\\knpob\\20220723-Mesh4D\\data\\meshes\\6kmh_braless_26markers\\speed_6km_h_26_marker_set_.000121.obj\n"
     ]
    }
   ],
   "source": [
    "from mesh4d import obj3d\n",
    "\n",
    "mesh_ls, texture_ls = obj3d.load_mesh_series(\n",
    "    folder=meshes_path,\n",
    "    start=start,\n",
    "    stride=stride,\n",
    "    end=end,\n",
    ")"
   ]
  },
  {
   "cell_type": "code",
   "execution_count": 3,
   "metadata": {},
   "outputs": [],
   "source": [
    "body_ls = obj3d.init_obj_series(\n",
    "    mesh_ls, \n",
    "    obj_type=obj3d.Obj3d_Deform\n",
    "    )"
   ]
  },
  {
   "attachments": {},
   "cell_type": "markdown",
   "metadata": {},
   "source": [
    "# Load breast trace"
   ]
  },
  {
   "cell_type": "code",
   "execution_count": 4,
   "metadata": {},
   "outputs": [
    {
     "data": {
      "text/plain": [
       "(222, 4854, 3)"
      ]
     },
     "execution_count": 4,
     "metadata": {},
     "output_type": "execute_result"
    }
   ],
   "source": [
    "import os\n",
    "import numpy as np\n",
    "\n",
    "breast_trace = np.load(os.path.join(fe_path, 'breast_trace.npy'))\n",
    "breast_trace.shape"
   ]
  },
  {
   "cell_type": "code",
   "execution_count": 5,
   "metadata": {},
   "outputs": [],
   "source": [
    "rot = np.load(os.path.join(regist_path, 'rot.npy'))\n",
    "scale = np.load(os.path.join(regist_path, 'scale.npy'))\n",
    "t = np.load(os.path.join(regist_path, 't.npy'))"
   ]
  },
  {
   "cell_type": "code",
   "execution_count": 6,
   "metadata": {},
   "outputs": [],
   "source": [
    "plot_num = len(breast_trace)\n",
    "plot_stride = 20\n",
    "\n",
    "mesh_num = len(mesh_ls)\n",
    "mesh_fps = 12\n",
    "fe_fps = 200"
   ]
  },
  {
   "cell_type": "code",
   "execution_count": 7,
   "metadata": {},
   "outputs": [
    {
     "name": "stdout",
     "output_type": "stream",
     "text": [
      "0 0\n",
      "20 1\n",
      "40 2\n",
      "60 3\n",
      "80 4\n",
      "100 6\n",
      "120 7\n",
      "140 8\n",
      "160 9\n",
      "180 10\n"
     ]
    }
   ],
   "source": [
    "for idx in range(0, plot_num, plot_stride):\n",
    "    # convert fe index to mesh index\n",
    "    mesh_idx = int(idx / fe_fps * mesh_fps)\n",
    "\n",
    "    if mesh_idx >= mesh_num:\n",
    "        break\n",
    "\n",
    "    print(idx, mesh_idx)"
   ]
  },
  {
   "cell_type": "code",
   "execution_count": 8,
   "metadata": {},
   "outputs": [
    {
     "name": "stdout",
     "output_type": "stream",
     "text": [
      "[================    ] 81.5% exported the 180-th frame"
     ]
    }
   ],
   "source": [
    "# before alignment\n",
    "import pyvista as pv\n",
    "from mesh4d import utils\n",
    "from mesh4d.analyse import measure\n",
    "\n",
    "scene = pv.Plotter()\n",
    "scene.open_gif(os.path.join(fe_path, 'breast_trace' + '.gif'))\n",
    "\n",
    "for idx in range(0, plot_num, plot_stride):\n",
    "    # convert fe index to mesh index\n",
    "    mesh_idx = int(idx / fe_fps * mesh_fps)\n",
    "\n",
    "    if mesh_idx >= mesh_num:\n",
    "        break\n",
    "\n",
    "    scene.clear()\n",
    "\n",
    "    points = breast_trace[idx]\n",
    "    nearest_points = measure.nearest_points_from_plane(mesh_ls[mesh_idx], points)\n",
    "\n",
    "    cloud = pv.PolyData(points)\n",
    "    cloud['point_color'] = np.linalg.norm(nearest_points - points, axis=1)\n",
    "    \n",
    "    scene.add_points(cloud, point_size=1e-5, opacity=0.1, cmap='cool')\n",
    "    scene.add_mesh(mesh_ls[mesh_idx], opacity=0.1, show_edges=True)\n",
    "    scene.camera_position = 'xy'\n",
    "    scene.write_frame()\n",
    "\n",
    "    percent = (idx + 1) / plot_num\n",
    "    utils.progress_bar(percent, back_str=\" exported the {}-th frame\".format(idx))\n",
    "\n",
    "scene.close()"
   ]
  },
  {
   "cell_type": "code",
   "execution_count": 9,
   "metadata": {},
   "outputs": [
    {
     "name": "stdout",
     "output_type": "stream",
     "text": [
      "[================    ] 81.5% exported the 180-th frame"
     ]
    }
   ],
   "source": [
    "# after alignment\n",
    "scene = pv.Plotter()\n",
    "scene.open_gif(os.path.join(fe_path, 'breast_trace_aligned' + '.gif'))\n",
    "\n",
    "for idx in range(0, plot_num, plot_stride):\n",
    "    # convert fe index to mesh index\n",
    "    mesh_idx = int(idx / fe_fps * mesh_fps)\n",
    "\n",
    "    if mesh_idx >= mesh_num:\n",
    "        break\n",
    "\n",
    "    scene.clear()\n",
    "\n",
    "    points = breast_trace[idx]\n",
    "    aligned_points = (scale * np.matmul(rot, points.T)).T + t\n",
    "    nearest_points = measure.nearest_points_from_plane(mesh_ls[mesh_idx], aligned_points)\n",
    "\n",
    "    cloud = pv.PolyData(aligned_points)\n",
    "    cloud['point_color'] = np.linalg.norm(nearest_points - aligned_points, axis=1)\n",
    "    \n",
    "    scene.add_points(cloud, point_size=1e-5, opacity=0.1, cmap='cool')\n",
    "    scene.add_mesh(mesh_ls[mesh_idx], opacity=0.1, show_edges=True)\n",
    "    scene.camera_position = 'xy'\n",
    "    scene.write_frame()\n",
    "\n",
    "    percent = (idx + 1) / plot_num\n",
    "    utils.progress_bar(percent, back_str=\" exported the {}-th frame\".format(idx))\n",
    "\n",
    "scene.close()"
   ]
  },
  {
   "cell_type": "code",
   "execution_count": null,
   "metadata": {},
   "outputs": [],
   "source": []
  }
 ],
 "metadata": {
  "kernelspec": {
   "display_name": "mesh4d",
   "language": "python",
   "name": "python3"
  },
  "language_info": {
   "codemirror_mode": {
    "name": "ipython",
    "version": 3
   },
   "file_extension": ".py",
   "mimetype": "text/x-python",
   "name": "python",
   "nbconvert_exporter": "python",
   "pygments_lexer": "ipython3",
   "version": "3.10.11"
  },
  "orig_nbformat": 4
 },
 "nbformat": 4,
 "nbformat_minor": 2
}
