{
 "cells": [
  {
   "cell_type": "code",
   "execution_count": 68,
   "metadata": {},
   "outputs": [],
   "source": [
    "# add mesh4d package folder to path\n",
    "import sys\n",
    "sys.path.insert(0, 'D:\\\\knpob\\\\20220723-Mesh4D')\n",
    "\n",
    "# mesh loading settingsx\n",
    "meshes_path = \"D:\\\\knpob\\\\20220723-Mesh4D\\\\data\\\\meshes\\\\6kmh_braless_26markers\"\n",
    "start=0\n",
    "stride = 12\n",
    "end=120\n",
    "\n",
    "# fe file path\n",
    "regist_path = \"..\\\\temp\\\\regist\"\n",
    "# fe_path = \"..\\\\temp\\\\c10 init\"\n",
    "fe_path = \"..\\\\temp\\\\c10 0.00015\"\n",
    "# fe_path = \"..\\\\temp\\\\c10 0.0001\"\n",
    "# fe_path = \"..\\\\temp\\\\c10 0.0002\""
   ]
  },
  {
   "attachments": {},
   "cell_type": "markdown",
   "metadata": {},
   "source": [
    "# Load 4D scanning sequence"
   ]
  },
  {
   "cell_type": "code",
   "execution_count": 6,
   "metadata": {},
   "outputs": [
    {
     "name": "stdout",
     "output_type": "stream",
     "text": [
      "[====================] 100.0% loading: D:\\knpob\\20220723-Mesh4D\\data\\meshes\\6kmh_braless_26markers\\speed_6km_h_26_marker_set_.000121.obj\n"
     ]
    }
   ],
   "source": [
    "from mesh4d import obj3d\n",
    "\n",
    "mesh_ls, texture_ls = obj3d.load_mesh_series(\n",
    "    folder=meshes_path,\n",
    "    start=start,\n",
    "    stride=stride,\n",
    "    end=end,\n",
    ")"
   ]
  },
  {
   "cell_type": "code",
   "execution_count": 33,
   "metadata": {},
   "outputs": [
    {
     "data": {
      "text/plain": [
       "[0, 12, 24, 36, 48, 60, 72, 84, 96, 108, 120]"
      ]
     },
     "execution_count": 33,
     "metadata": {},
     "output_type": "execute_result"
    }
   ],
   "source": [
    "[stride * i for i in range(len(mesh_ls))]"
   ]
  },
  {
   "cell_type": "code",
   "execution_count": 7,
   "metadata": {},
   "outputs": [],
   "source": [
    "body_ls = obj3d.init_obj_series(\n",
    "    mesh_ls, \n",
    "    obj_type=obj3d.Obj3d_Deform\n",
    "    )"
   ]
  },
  {
   "attachments": {},
   "cell_type": "markdown",
   "metadata": {},
   "source": [
    "# Load breast trace"
   ]
  },
  {
   "cell_type": "code",
   "execution_count": 69,
   "metadata": {},
   "outputs": [
    {
     "data": {
      "text/plain": [
       "(104, 39294, 3)"
      ]
     },
     "execution_count": 69,
     "metadata": {},
     "output_type": "execute_result"
    }
   ],
   "source": [
    "import os\n",
    "import numpy as np\n",
    "\n",
    "breast_trace = np.load(os.path.join(fe_path, 'breast_trace.npy'))\n",
    "breast_trace.shape"
   ]
  },
  {
   "cell_type": "code",
   "execution_count": 70,
   "metadata": {},
   "outputs": [],
   "source": [
    "rot = np.load(os.path.join(regist_path, 'rot.npy'))\n",
    "scale = np.load(os.path.join(regist_path, 'scale.npy'))\n",
    "t = np.load(os.path.join(regist_path, 't.npy'))"
   ]
  },
  {
   "cell_type": "code",
   "execution_count": 71,
   "metadata": {},
   "outputs": [
    {
     "name": "stdout",
     "output_type": "stream",
     "text": [
      "[==================  ] 93.3% exported the 96-th frame"
     ]
    }
   ],
   "source": [
    "# before alignment\n",
    "import pyvista as pv\n",
    "from mesh4d import utils\n",
    "from mesh4d.analyse import measure\n",
    "\n",
    "scene = pv.Plotter()\n",
    "scene.open_gif(os.path.join(fe_path, 'breast_trace' + '.gif'))\n",
    "\n",
    "plot_num = len(breast_trace)\n",
    "\n",
    "for idx in range(0, plot_num, stride):\n",
    "    if idx > end:\n",
    "        break\n",
    "\n",
    "    scene.clear()\n",
    "\n",
    "    points = breast_trace[idx]\n",
    "    nearest_points = measure.nearest_points_from_plane(mesh_ls[int(idx / stride)], points)\n",
    "\n",
    "    cloud = pv.PolyData(points)\n",
    "    cloud['point_color'] = np.linalg.norm(nearest_points - points, axis=1)\n",
    "    \n",
    "    scene.add_points(cloud, point_size=1e-5, opacity=0.1, cmap='cool')\n",
    "    scene.add_mesh(mesh_ls[int(idx / stride)], opacity=0.1, show_edges=True)\n",
    "    scene.camera_position = 'xy'\n",
    "    scene.write_frame()\n",
    "\n",
    "    percent = (idx + 1) / plot_num\n",
    "    utils.progress_bar(percent, back_str=\" exported the {}-th frame\".format(idx))\n",
    "\n",
    "scene.close()"
   ]
  },
  {
   "cell_type": "code",
   "execution_count": 72,
   "metadata": {},
   "outputs": [
    {
     "name": "stdout",
     "output_type": "stream",
     "text": [
      "[                    ] 1.0% exported the 0-th frame"
     ]
    },
    {
     "name": "stdout",
     "output_type": "stream",
     "text": [
      "[==================  ] 93.3% exported the 96-th frame"
     ]
    }
   ],
   "source": [
    "# after alignment\n",
    "scene = pv.Plotter()\n",
    "scene.open_gif(os.path.join(fe_path, 'breast_trace_aligned' + '.gif'))\n",
    "\n",
    "plot_num = len(breast_trace)\n",
    "\n",
    "for idx in range(0, plot_num, stride):\n",
    "    if idx > end:\n",
    "        break\n",
    "\n",
    "    scene.clear()\n",
    "\n",
    "    points = breast_trace[idx]\n",
    "    aligned_points = (scale * np.matmul(rot, points.T)).T + t\n",
    "    nearest_points = measure.nearest_points_from_plane(mesh_ls[int(idx / stride)], aligned_points)\n",
    "\n",
    "    cloud = pv.PolyData(aligned_points)\n",
    "    cloud['point_color'] = np.linalg.norm(nearest_points - aligned_points, axis=1)\n",
    "    \n",
    "    scene.add_points(cloud, point_size=1e-5, opacity=0.1, cmap='cool')\n",
    "    scene.add_mesh(mesh_ls[int(idx / stride)], opacity=0.1, show_edges=True)\n",
    "    scene.camera_position = 'xy'\n",
    "    scene.write_frame()\n",
    "\n",
    "    percent = (idx + 1) / plot_num\n",
    "    utils.progress_bar(percent, back_str=\" exported the {}-th frame\".format(idx))\n",
    "\n",
    "scene.close()"
   ]
  },
  {
   "cell_type": "code",
   "execution_count": null,
   "metadata": {},
   "outputs": [],
   "source": []
  }
 ],
 "metadata": {
  "kernelspec": {
   "display_name": "mesh4d",
   "language": "python",
   "name": "python3"
  },
  "language_info": {
   "codemirror_mode": {
    "name": "ipython",
    "version": 3
   },
   "file_extension": ".py",
   "mimetype": "text/x-python",
   "name": "python",
   "nbconvert_exporter": "python",
   "pygments_lexer": "ipython3",
   "version": "3.10.11"
  },
  "orig_nbformat": 4
 },
 "nbformat": 4,
 "nbformat_minor": 2
}
