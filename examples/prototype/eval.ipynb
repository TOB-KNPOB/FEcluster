{
 "cells": [
  {
   "cell_type": "code",
   "execution_count": null,
   "metadata": {},
   "outputs": [],
   "source": [
    "# mesh loading settingsx\n",
    "meshes_path = \"D:\\\\knpob\\\\20220723-Mesh4D\\\\data\\\\meshes\\\\6kmh_braless_26markers\"\n",
    "start=0\n",
    "stride = 1\n",
    "end=120\n",
    "\n",
    "# fe file path\n",
    "regist_path = \"..\\\\temp\\\\regist\"\n",
    "# fe_path = \"..\\\\temp\\\\c10 init\"\n",
    "# fe_path = \"..\\\\temp\\\\c10 0.00015\"\n",
    "# fe_path = \"..\\\\temp\\\\c10 0.0001\"\n",
    "# fe_path = \"..\\\\temp\\\\c10 0.0002\"\n",
    "fe_path = \"..\\\\temp\\\\traced\""
   ]
  },
  {
   "attachments": {},
   "cell_type": "markdown",
   "metadata": {},
   "source": [
    "# Load 4D scanning sequence"
   ]
  },
  {
   "cell_type": "code",
   "execution_count": null,
   "metadata": {},
   "outputs": [],
   "source": [
    "from mesh4d import obj3d\n",
    "\n",
    "mesh_ls, texture_ls = obj3d.load_mesh_series(\n",
    "    folder=meshes_path,\n",
    "    start=start,\n",
    "    stride=stride,\n",
    "    end=end,\n",
    ")"
   ]
  },
  {
   "cell_type": "code",
   "execution_count": null,
   "metadata": {},
   "outputs": [],
   "source": [
    "body_ls = obj3d.init_obj_series(\n",
    "    mesh_ls, \n",
    "    obj_type=obj3d.Obj3d_Deform\n",
    "    )"
   ]
  },
  {
   "attachments": {},
   "cell_type": "markdown",
   "metadata": {},
   "source": [
    "# Load breast trace"
   ]
  },
  {
   "cell_type": "code",
   "execution_count": null,
   "metadata": {},
   "outputs": [],
   "source": [
    "import os\n",
    "import numpy as np\n",
    "\n",
    "breast_trace = np.load(os.path.join(fe_path, 'breast_trace.npy'))\n",
    "breast_trace.shape"
   ]
  },
  {
   "cell_type": "code",
   "execution_count": null,
   "metadata": {},
   "outputs": [],
   "source": [
    "rot = np.load(os.path.join(regist_path, 'rot.npy'))\n",
    "scale = np.load(os.path.join(regist_path, 'scale.npy'))\n",
    "t = np.load(os.path.join(regist_path, 't.npy'))\n",
    "rot, scale, t"
   ]
  },
  {
   "cell_type": "markdown",
   "metadata": {},
   "source": [
    "# Graphical evaluation"
   ]
  },
  {
   "cell_type": "code",
   "execution_count": null,
   "metadata": {},
   "outputs": [],
   "source": [
    "plot_num = len(breast_trace)\n",
    "plot_stride = 10\n",
    "\n",
    "mesh_num = len(mesh_ls)\n",
    "mesh_fps = 120\n",
    "fe_fps = 200"
   ]
  },
  {
   "cell_type": "code",
   "execution_count": null,
   "metadata": {},
   "outputs": [],
   "source": [
    "for fe_idx in range(0, plot_num, plot_stride):\n",
    "    # convert fe index to mesh index\n",
    "    mesh_idx = int(fe_idx / fe_fps * mesh_fps)\n",
    "\n",
    "    if mesh_idx >= mesh_num:\n",
    "        break\n",
    "\n",
    "    print(fe_idx, mesh_idx)"
   ]
  },
  {
   "cell_type": "code",
   "execution_count": null,
   "metadata": {},
   "outputs": [],
   "source": [
    "# before alignment\n",
    "import pyvista as pv\n",
    "from mesh4d import utils\n",
    "from mesh4d.analyse import measure\n",
    "\n",
    "scene = pv.Plotter()\n",
    "scene.open_movie(os.path.join(fe_path, 'breast_trace' + '.mp4'))\n",
    "\n",
    "for fe_idx in range(0, plot_num, plot_stride):\n",
    "    # convert fe index to mesh index\n",
    "    mesh_idx = int(fe_idx / fe_fps * mesh_fps)\n",
    "\n",
    "    if mesh_idx >= mesh_num:\n",
    "        break\n",
    "\n",
    "    scene.clear()\n",
    "\n",
    "    points = breast_trace[fe_idx]\n",
    "    nearest_points = measure.nearest_points_from_plane(mesh_ls[mesh_idx], points)\n",
    "\n",
    "    cloud = pv.PolyData(points)\n",
    "    cloud['point_color'] = np.linalg.norm(nearest_points - points, axis=1)\n",
    "    \n",
    "    scene.add_points(cloud, point_size=1e-5, opacity=0.5, cmap='cool')\n",
    "    scene.add_mesh(mesh_ls[mesh_idx], opacity=0.1, show_edges=True)\n",
    "    scene.camera_position = 'xy'\n",
    "    scene.write_frame()\n",
    "\n",
    "    percent = (fe_idx + 1) / plot_num\n",
    "    utils.progress_bar(percent, back_str=f\" exported the {fe_idx}-th frame\")\n",
    "\n",
    "scene.close()"
   ]
  },
  {
   "cell_type": "code",
   "execution_count": null,
   "metadata": {},
   "outputs": [],
   "source": [
    "# before alignment\n",
    "import pyvista as pv\n",
    "from mesh4d import utils\n",
    "from mesh4d.analyse import measure\n",
    "\n",
    "scene = pv.Plotter()\n",
    "scene.open_movie(os.path.join(fe_path, 'breast_trace_aligned' + '.mp4'))\n",
    "\n",
    "for fe_idx in range(0, plot_num, plot_stride):\n",
    "    # convert fe index to mesh index\n",
    "    mesh_idx = int(fe_idx / fe_fps * mesh_fps)\n",
    "\n",
    "    if mesh_idx >= mesh_num:\n",
    "        break\n",
    "\n",
    "    scene.clear()\n",
    "\n",
    "    points = breast_trace[fe_idx]\n",
    "    points = points + t\n",
    "    nearest_points = measure.nearest_points_from_plane(mesh_ls[mesh_idx], points)\n",
    "\n",
    "    cloud = pv.PolyData(points)\n",
    "    cloud['point_color'] = np.linalg.norm(nearest_points - points, axis=1)\n",
    "    \n",
    "    scene.add_points(cloud, point_size=1e-5, opacity=0.5, cmap='cool')\n",
    "    scene.add_mesh(mesh_ls[mesh_idx], opacity=0.1, show_edges=True)\n",
    "    scene.camera_position = 'xy'\n",
    "    scene.write_frame()\n",
    "\n",
    "    percent = (fe_idx + 1) / plot_num\n",
    "    utils.progress_bar(percent, back_str=f\" exported the {fe_idx}-th frame\")\n",
    "\n",
    "scene.close()"
   ]
  },
  {
   "cell_type": "markdown",
   "metadata": {},
   "source": [
    "# Quantitative evaluation"
   ]
  },
  {
   "cell_type": "code",
   "execution_count": null,
   "metadata": {},
   "outputs": [],
   "source": [
    "eval_num = len(breast_trace)\n",
    "eval_stride = 1\n",
    "\n",
    "mesh_num = len(mesh_ls)\n",
    "mesh_fps = 120\n",
    "fe_fps = 200"
   ]
  },
  {
   "cell_type": "code",
   "execution_count": null,
   "metadata": {},
   "outputs": [],
   "source": [
    "for fe_idx in range(0, eval_num, eval_stride):\n",
    "    # convert fe index to mesh index\n",
    "    mesh_idx = int(fe_idx / fe_fps * mesh_fps)\n",
    "\n",
    "    if mesh_idx >= mesh_num:\n",
    "        break\n",
    "\n",
    "    print(fe_idx, mesh_idx)"
   ]
  },
  {
   "cell_type": "code",
   "execution_count": null,
   "metadata": {},
   "outputs": [],
   "source": [
    "dist_ls = []\n",
    "\n",
    "for fe_idx in range(0, eval_num, eval_stride):\n",
    "    # convert fe index to mesh index\n",
    "    mesh_idx = int(fe_idx / fe_fps * mesh_fps)\n",
    "\n",
    "    if mesh_idx >= mesh_num:\n",
    "        break\n",
    "\n",
    "    scene.clear()\n",
    "\n",
    "    points = breast_trace[fe_idx]\n",
    "    points = points + t\n",
    "    nearest_points = measure.nearest_points_from_plane(mesh_ls[mesh_idx], points)\n",
    "    dist_ls.append(np.linalg.norm(nearest_points - points, axis=1))\n",
    "\n",
    "    percent = (fe_idx + 1) / eval_num\n",
    "    utils.progress_bar(percent, back_str=f\" exported the {fe_idx}-th frame\")"
   ]
  },
  {
   "cell_type": "code",
   "execution_count": null,
   "metadata": {},
   "outputs": [],
   "source": [
    "deviation = np.array(dist_ls)\n",
    "utils.save_pkl_object(deviation, fe_path, 'deviation')\n",
    "print(f\"overall distance: {deviation.mean():.2f} ± {deviation.std():.2f} (mm)\")"
   ]
  },
  {
   "cell_type": "code",
   "execution_count": null,
   "metadata": {},
   "outputs": [],
   "source": []
  }
 ],
 "metadata": {
  "kernelspec": {
   "display_name": "mesh4d",
   "language": "python",
   "name": "python3"
  },
  "language_info": {
   "codemirror_mode": {
    "name": "ipython",
    "version": 3
   },
   "file_extension": ".py",
   "mimetype": "text/x-python",
   "name": "python",
   "nbconvert_exporter": "python",
   "pygments_lexer": "ipython3",
   "version": "3.10.11"
  }
 },
 "nbformat": 4,
 "nbformat_minor": 2
}
