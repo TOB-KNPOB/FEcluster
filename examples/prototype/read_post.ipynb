{
 "cells": [
  {
   "cell_type": "code",
   "execution_count": null,
   "metadata": {},
   "outputs": [],
   "source": [
    "import py_post as pp"
   ]
  },
  {
   "cell_type": "code",
   "execution_count": null,
   "metadata": {},
   "outputs": [],
   "source": [
    "# fe_name = \"6km model 3 directions 2016_job1\"\n",
    "# fe_name = \"task\"\n",
    "fe_name = \"model_new_job1\"\n",
    "\n",
    "# fe_path = \"..\\\\temp\\\\c10 init\"\n",
    "# fe_path = \"..\\\\temp\\\\c10 0.00015\"\n",
    "# fe_path = \"..\\\\temp\\\\c10 0.0001\"\n",
    "# fe_path = \"..\\\\temp\\\\c10 0.0002\"\n",
    "fe_path = \"..\\\\temp\\\\traced\""
   ]
  },
  {
   "attachments": {},
   "cell_type": "markdown",
   "metadata": {},
   "source": [
    "# Loading and indexing"
   ]
  },
  {
   "cell_type": "code",
   "execution_count": null,
   "metadata": {},
   "outputs": [],
   "source": [
    "import os\n",
    "\n",
    "file = os.path.join(fe_path, fe_name + '.t16')\n",
    "results = pp.post_open(file)\n",
    "results.moveto(1)\n",
    "\n",
    "print(f\"increment num \\t {results.increments()}\")\n",
    "print(f\"body num \\t {results.cbodies()}\")\n",
    "print(f\"element num \\t {results.elements()}\")\n",
    "print(f\"node num \\t {results.nodes()}\")"
   ]
  },
  {
   "cell_type": "code",
   "execution_count": null,
   "metadata": {},
   "outputs": [],
   "source": [
    "body_name2index = {}\n",
    "\n",
    "for index in range(results.cbodies()):\n",
    "    name = results.cbody_name(index)\n",
    "    body_name2index[name] = index\n",
    "\n",
    "body_name2index"
   ]
  },
  {
   "cell_type": "code",
   "execution_count": null,
   "metadata": {},
   "outputs": [],
   "source": [
    "elem_id2index = {}\n",
    "\n",
    "for index in range(results.elements()):\n",
    "    id = results.element_id(index)\n",
    "    elem_id2index[id] = index\n",
    "\n",
    "elem_id2index"
   ]
  },
  {
   "cell_type": "code",
   "execution_count": null,
   "metadata": {},
   "outputs": [],
   "source": [
    "node_id2index = {}\n",
    "\n",
    "for index in range(results.nodes()):\n",
    "    id = results.node_id(index)\n",
    "    node_id2index[id] = index\n",
    "\n",
    "node_id2index"
   ]
  },
  {
   "attachments": {},
   "cell_type": "markdown",
   "metadata": {},
   "source": [
    "# Breast surface"
   ]
  },
  {
   "cell_type": "code",
   "execution_count": null,
   "metadata": {},
   "outputs": [],
   "source": [
    "# load breast surface indices\n",
    "import pickle\n",
    "\n",
    "with open('../../data/surf_node_id.pkl', 'rb') as file:\n",
    "    surf_node_ids = pickle.load(file)\n",
    "    \n",
    "surf_node_ids"
   ]
  },
  {
   "attachments": {},
   "cell_type": "markdown",
   "metadata": {},
   "source": [
    "# Export `.npy` data"
   ]
  },
  {
   "cell_type": "code",
   "execution_count": null,
   "metadata": {},
   "outputs": [],
   "source": [
    "lode_case2_start = 18\n",
    "data = []\n",
    "\n",
    "for inc_id in range(18, results.increments() + 1):\n",
    "    results.moveto(inc_id)\n",
    "    points = []\n",
    "\n",
    "    for node_id in surf_node_ids:\n",
    "        node_index = node_id2index[node_id]\n",
    "        dx, dy, dz = results.node_displacement(node_index)\n",
    "\n",
    "        node_loc = [\n",
    "            results.node(node_index).x + dx,\n",
    "            results.node(node_index).y + dy,\n",
    "            results.node(node_index).z + dz,\n",
    "        ]\n",
    "        points.append(node_loc)\n",
    "\n",
    "    data.append(points)"
   ]
  },
  {
   "cell_type": "code",
   "execution_count": null,
   "metadata": {},
   "outputs": [],
   "source": [
    "import numpy as np\n",
    "data = np.array(data)\n",
    "data.shape"
   ]
  },
  {
   "cell_type": "code",
   "execution_count": null,
   "metadata": {},
   "outputs": [],
   "source": [
    "np.save(os.path.join(fe_path, 'breast_trace'), data)"
   ]
  },
  {
   "cell_type": "code",
   "execution_count": null,
   "metadata": {},
   "outputs": [],
   "source": []
  }
 ],
 "metadata": {
  "kernelspec": {
   "display_name": "marc",
   "language": "python",
   "name": "python3"
  },
  "language_info": {
   "codemirror_mode": {
    "name": "ipython",
    "version": 3
   },
   "file_extension": ".py",
   "mimetype": "text/x-python",
   "name": "python",
   "nbconvert_exporter": "python",
   "pygments_lexer": "ipython3",
   "version": "3.6.13"
  }
 },
 "nbformat": 4,
 "nbformat_minor": 2
}
