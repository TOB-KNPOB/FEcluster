{
 "cells": [
  {
   "cell_type": "code",
   "execution_count": 2,
   "metadata": {},
   "outputs": [],
   "source": [
    "# add root folder of the project to path\n",
    "import sys\n",
    "sys.path.insert(0, '..')"
   ]
  },
  {
   "cell_type": "code",
   "execution_count": null,
   "metadata": {},
   "outputs": [],
   "source": [
    "from FEcluster.cluster import Cluster\n",
    "cst = Cluster(\n",
    "    mentat_cwd='D:\\\\knpob\\\\20230613-FE cluster',\n",
    "    hosts_conf='hosts.yml',\n",
    "    )"
   ]
  },
  {
   "attachments": {},
   "cell_type": "markdown",
   "metadata": {},
   "source": [
    "# Working with `Mentat` interface"
   ]
  },
  {
   "cell_type": "code",
   "execution_count": null,
   "metadata": {},
   "outputs": [],
   "source": [
    "cst.mentat.connect()\n",
    "cst.mentat.open_model('.\\\\data\\\\base_model_19.mud')"
   ]
  },
  {
   "cell_type": "code",
   "execution_count": null,
   "metadata": {},
   "outputs": [],
   "source": [
    "# adjust hyper-elaster parameters\n",
    "c10 = 0.00015\n",
    "procs = [\n",
    "    '*edit_mater breast',\n",
    "    f'*mater_param structural:mooney_c10 {c10}',\n",
    "    ]\n",
    "cst.mentat.exec_procs(procs)"
   ]
  },
  {
   "cell_type": "code",
   "execution_count": null,
   "metadata": {},
   "outputs": [],
   "source": [
    "# adjust loadcases settings\n",
    "procs = [\n",
    "    '*edit_loadcase lcase1',\n",
    "    '*loadcase_option stepping:fixed',\n",
    "    '*loadcase_value time 0.02',\n",
    "    '*loadcase_value nsteps 2',\n",
    "    '*edit_loadcase lcase2',\n",
    "    '*loadcase_value time 0.02',\n",
    "    '*loadcase_value nsteps 2',\n",
    "    ]\n",
    "cst.mentat.exec_procs(procs)"
   ]
  },
  {
   "cell_type": "code",
   "execution_count": null,
   "metadata": {},
   "outputs": [],
   "source": [
    "cst.mentat.export_dat('.\\\\output\\\\test', 'test')"
   ]
  },
  {
   "cell_type": "code",
   "execution_count": null,
   "metadata": {},
   "outputs": [],
   "source": [
    "# cst.mentat.close_model()\n",
    "# cst.mentat.disconnect()"
   ]
  },
  {
   "attachments": {},
   "cell_type": "markdown",
   "metadata": {},
   "source": [
    "# Distribute simulation tasks"
   ]
  },
  {
   "cell_type": "code",
   "execution_count": null,
   "metadata": {},
   "outputs": [],
   "source": [
    "# add root folder of the project to path\n",
    "import sys\n",
    "sys.path.insert(0, '..')"
   ]
  },
  {
   "cell_type": "code",
   "execution_count": 3,
   "metadata": {},
   "outputs": [
    {
     "name": "stderr",
     "output_type": "stream",
     "text": [
      "c:\\ProgramData\\anaconda3\\envs\\marc\\lib\\site-packages\\paramiko\\transport.py:32: CryptographyDeprecationWarning: Python 3.6 is no longer supported by the Python core team. Therefore, support for it is deprecated in cryptography. The next release of cryptography will remove support for Python 3.6.\n",
      "  from cryptography.hazmat.backends import default_backend\n"
     ]
    },
    {
     "name": "stdout",
     "output_type": "stream",
     "text": [
      "knpob@158.132.134.38:temp\n",
      "\u001b[32m12:07:23 > successful > local folder \"D:\\knpob\\temp\" already exists\u001b[0m\n",
      "knpob@158.132.134.38:temp\n",
      "\u001b[32m12:07:23 > successful > remote folder \"D:\\knpob\\temp\" already exists\u001b[0m\n"
     ]
    }
   ],
   "source": [
    "from FEcluster import host\n",
    "session = host.HostSession(\n",
    "    session_name='temp',\n",
    "    addr = \"158.132.134.38\",\n",
    "    user = \"knpob\",\n",
    "    pwd = \"199711\",\n",
    "    local_cwd=\"D:\\\\knpob\\\\temp\",\n",
    "    remote_cwd=\"D:\\\\knpob\\\\temp\",\n",
    ")"
   ]
  },
  {
   "cell_type": "code",
   "execution_count": 4,
   "metadata": {},
   "outputs": [
    {
     "name": "stdout",
     "output_type": "stream",
     "text": [
      "knpob@158.132.134.38:temp\n",
      "\u001b[32m12:07:33 > successful > remote folder \"\" already exists\u001b[0m\n",
      "knpob@158.132.134.38:temp\n",
      "\u001b[32m12:07:35 > successful > put file \"demo.dat\" to remote folder \"\"\u001b[0m\n"
     ]
    }
   ],
   "source": [
    "session.put_file('demo.dat', '')"
   ]
  },
  {
   "cell_type": "code",
   "execution_count": 5,
   "metadata": {},
   "outputs": [
    {
     "name": "stdout",
     "output_type": "stream",
     "text": [
      "knpob@158.132.134.38:temp\n",
      "\u001b[32m12:07:47 > successful > local folder \"\" already exists\u001b[0m\n",
      "knpob@158.132.134.38:temp\n",
      "\u001b[32m12:07:48 > successful > put file \"demo.dat\" to local folder \"\"\u001b[0m\n"
     ]
    }
   ],
   "source": [
    "session.get_file('demo.dat', '')"
   ]
  },
  {
   "attachments": {},
   "cell_type": "markdown",
   "metadata": {},
   "source": [
    "# Task"
   ]
  },
  {
   "cell_type": "code",
   "execution_count": 1,
   "metadata": {},
   "outputs": [],
   "source": [
    "# add root folder of the project to path\n",
    "import sys\n",
    "sys.path.insert(0, '..')"
   ]
  },
  {
   "cell_type": "code",
   "execution_count": 2,
   "metadata": {},
   "outputs": [
    {
     "name": "stderr",
     "output_type": "stream",
     "text": [
      "c:\\ProgramData\\anaconda3\\envs\\marc\\lib\\site-packages\\paramiko\\transport.py:32: CryptographyDeprecationWarning: Python 3.6 is no longer supported by the Python core team. Therefore, support for it is deprecated in cryptography. The next release of cryptography will remove support for Python 3.6.\n",
      "  from cryptography.hazmat.backends import default_backend\n"
     ]
    }
   ],
   "source": [
    "from FEcluster.cluster import Cluster\n",
    "\n",
    "cst = Cluster(\n",
    "    mentat_cwd='D:\\\\knpob\\\\20230613-FE cluster',\n",
    "    hosts_conf='hosts.yml',\n",
    "    )\n",
    "\n",
    "cst.launch_service(\"127.0.0.1\", 40007)"
   ]
  },
  {
   "cell_type": "code",
   "execution_count": 10,
   "metadata": {},
   "outputs": [],
   "source": [
    "import time\n",
    "from FEcluster import mentat, host, task\n",
    "\n",
    "class Task_test(task.Task):\n",
    "    def mentat(self, mentat_obj: mentat.Mentat):\n",
    "        print(f\"{time.time()} > {self.name}: mentat start\")\n",
    "        time.sleep(1)\n",
    "        print(f\"{time.time()} > {self.name}: mentat end\")\n",
    "\n",
    "    def job(self, host_session: host.HostSession):\n",
    "        print(f\"{time.time()} > {self.name}: job start\")\n",
    "        time.sleep(10)\n",
    "        print(f\"{time.time()} > {self.name}: job end\")\n",
    "\n",
    "    def watch(self, host_session: host.HostSession):\n",
    "        print(f\"{time.time()} > {self.name}: watch start\")\n",
    "        time.sleep(10)\n",
    "        print(f\"{time.time()} > {self.name}: watch end\")\n",
    "\n",
    "task1 = Task_test('task1')\n",
    "task2 = Task_test('task2')\n",
    "task3 = Task_test('task3')"
   ]
  },
  {
   "cell_type": "code",
   "execution_count": 11,
   "metadata": {},
   "outputs": [
    {
     "name": "stdout",
     "output_type": "stream",
     "text": [
      "1687772577.991775 > task1: mentat start\n"
     ]
    },
    {
     "name": "stdout",
     "output_type": "stream",
     "text": [
      "1687772579.0012014 > task1: mentat end\n",
      "1687772579.0021944 > task1: job start\n",
      "1687772579.0041893 > task1: watch start1687772579.0051863 > task2: mentat start\n",
      "\n",
      "1687772580.0116463 > task2: mentat end\n",
      "1687772580.0126526 > task2: job start\n",
      "1687772580.0156434 > task2: watch start1687772580.017663 > task3: mentat start\n",
      "\n",
      "1687772581.0247798 > task3: mentat end\n",
      "1687772581.026665 > task3: job start\n",
      "1687772581.0326185 > task3: watch start\n",
      "1687772589.027837 > task1: job end\n",
      "1687772589.027837 > task1: watch end\n",
      "1687772590.0420933 > task2: watch end1687772590.0420933 > task2: job end\n",
      "\n",
      "1687772591.0564117 > task3: watch end1687772591.0564117 > task3: job end\n",
      "\n"
     ]
    }
   ],
   "source": [
    "cst.submit_task(task1)\n",
    "cst.submit_task(task2)\n",
    "cst.submit_task(task3)"
   ]
  },
  {
   "cell_type": "code",
   "execution_count": 8,
   "metadata": {},
   "outputs": [],
   "source": [
    "cst.kill_service()"
   ]
  },
  {
   "cell_type": "code",
   "execution_count": null,
   "metadata": {},
   "outputs": [],
   "source": []
  }
 ],
 "metadata": {
  "kernelspec": {
   "display_name": "marc",
   "language": "python",
   "name": "python3"
  },
  "language_info": {
   "codemirror_mode": {
    "name": "ipython",
    "version": 3
   },
   "file_extension": ".py",
   "mimetype": "text/x-python",
   "name": "python",
   "nbconvert_exporter": "python",
   "pygments_lexer": "ipython3",
   "version": "3.6.13"
  },
  "orig_nbformat": 4
 },
 "nbformat": 4,
 "nbformat_minor": 2
}
