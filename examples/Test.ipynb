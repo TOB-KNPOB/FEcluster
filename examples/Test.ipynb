{
 "cells": [
  {
   "cell_type": "code",
   "execution_count": 2,
   "metadata": {},
   "outputs": [],
   "source": [
    "# add root folder of the project to path\n",
    "import sys\n",
    "sys.path.insert(0, '..')"
   ]
  },
  {
   "cell_type": "code",
   "execution_count": null,
   "metadata": {},
   "outputs": [],
   "source": [
    "from FEcluster.cluster import Cluster\n",
    "cst = Cluster(\n",
    "    mentat_cwd='D:\\\\knpob\\\\20230613-FE cluster',\n",
    "    hosts_conf='hosts.yml',\n",
    "    )"
   ]
  },
  {
   "attachments": {},
   "cell_type": "markdown",
   "metadata": {},
   "source": [
    "# Working with `Mentat` interface"
   ]
  },
  {
   "cell_type": "code",
   "execution_count": null,
   "metadata": {},
   "outputs": [],
   "source": [
    "cst.mentat.connect()\n",
    "cst.mentat.open_model('.\\\\data\\\\base_model_19.mud')"
   ]
  },
  {
   "cell_type": "code",
   "execution_count": null,
   "metadata": {},
   "outputs": [],
   "source": [
    "# adjust hyper-elaster parameters\n",
    "c10 = 0.00015\n",
    "procs = [\n",
    "    '*edit_mater breast',\n",
    "    f'*mater_param structural:mooney_c10 {c10}',\n",
    "    ]\n",
    "cst.mentat.exec_procs(procs)"
   ]
  },
  {
   "cell_type": "code",
   "execution_count": null,
   "metadata": {},
   "outputs": [],
   "source": [
    "# adjust loadcases settings\n",
    "procs = [\n",
    "    '*edit_loadcase lcase1',\n",
    "    '*loadcase_option stepping:fixed',\n",
    "    '*loadcase_value time 0.02',\n",
    "    '*loadcase_value nsteps 2',\n",
    "    '*edit_loadcase lcase2',\n",
    "    '*loadcase_value time 0.02',\n",
    "    '*loadcase_value nsteps 2',\n",
    "    ]\n",
    "cst.mentat.exec_procs(procs)"
   ]
  },
  {
   "cell_type": "code",
   "execution_count": null,
   "metadata": {},
   "outputs": [],
   "source": [
    "cst.mentat.export_dat('.\\\\output\\\\test', 'test')"
   ]
  },
  {
   "cell_type": "code",
   "execution_count": null,
   "metadata": {},
   "outputs": [],
   "source": [
    "# cst.mentat.close_model()\n",
    "# cst.mentat.disconnect()"
   ]
  },
  {
   "attachments": {},
   "cell_type": "markdown",
   "metadata": {},
   "source": [
    "# Distribute simulation tasks"
   ]
  },
  {
   "cell_type": "code",
   "execution_count": 3,
   "metadata": {},
   "outputs": [
    {
     "name": "stderr",
     "output_type": "stream",
     "text": [
      "c:\\ProgramData\\anaconda3\\envs\\marc\\lib\\site-packages\\paramiko\\transport.py:32: CryptographyDeprecationWarning: Python 3.6 is no longer supported by the Python core team. Therefore, support for it is deprecated in cryptography. The next release of cryptography will remove support for Python 3.6.\n",
      "  from cryptography.hazmat.backends import default_backend\n"
     ]
    },
    {
     "name": "stdout",
     "output_type": "stream",
     "text": [
      "knpob@158.132.134.38:temp\n",
      "\u001b[32m12:07:23 > successful > local folder \"D:\\knpob\\temp\" already exists\u001b[0m\n",
      "knpob@158.132.134.38:temp\n",
      "\u001b[32m12:07:23 > successful > remote folder \"D:\\knpob\\temp\" already exists\u001b[0m\n"
     ]
    }
   ],
   "source": [
    "from FEcluster import host\n",
    "session = host.HostSession(\n",
    "    session_name='temp',\n",
    "    addr = \"158.132.134.38\",\n",
    "    user = \"knpob\",\n",
    "    pwd = \"199711\",\n",
    "    local_cwd=\"D:\\\\knpob\\\\temp\",\n",
    "    remote_cwd=\"D:\\\\knpob\\\\temp\",\n",
    ")"
   ]
  },
  {
   "cell_type": "code",
   "execution_count": 4,
   "metadata": {},
   "outputs": [
    {
     "name": "stdout",
     "output_type": "stream",
     "text": [
      "knpob@158.132.134.38:temp\n",
      "\u001b[32m12:07:33 > successful > remote folder \"\" already exists\u001b[0m\n",
      "knpob@158.132.134.38:temp\n",
      "\u001b[32m12:07:35 > successful > put file \"demo.dat\" to remote folder \"\"\u001b[0m\n"
     ]
    }
   ],
   "source": [
    "session.put_file('demo.dat', '')"
   ]
  },
  {
   "cell_type": "code",
   "execution_count": 5,
   "metadata": {},
   "outputs": [
    {
     "name": "stdout",
     "output_type": "stream",
     "text": [
      "knpob@158.132.134.38:temp\n",
      "\u001b[32m12:07:47 > successful > local folder \"\" already exists\u001b[0m\n",
      "knpob@158.132.134.38:temp\n",
      "\u001b[32m12:07:48 > successful > put file \"demo.dat\" to local folder \"\"\u001b[0m\n"
     ]
    }
   ],
   "source": [
    "session.get_file('demo.dat', '')"
   ]
  },
  {
   "attachments": {},
   "cell_type": "markdown",
   "metadata": {},
   "source": [
    "# Task"
   ]
  },
  {
   "cell_type": "code",
   "execution_count": 1,
   "metadata": {},
   "outputs": [],
   "source": [
    "# add root folder of the project to path\n",
    "import sys\n",
    "sys.path.insert(0, '..')"
   ]
  },
  {
   "cell_type": "code",
   "execution_count": 2,
   "metadata": {},
   "outputs": [
    {
     "name": "stderr",
     "output_type": "stream",
     "text": [
      "c:\\ProgramData\\anaconda3\\envs\\marc\\lib\\site-packages\\paramiko\\transport.py:32: CryptographyDeprecationWarning: Python 3.6 is no longer supported by the Python core team. Therefore, support for it is deprecated in cryptography. The next release of cryptography will remove support for Python 3.6.\n",
      "  from cryptography.hazmat.backends import default_backend\n"
     ]
    }
   ],
   "source": [
    "from FEcluster.cluster import Cluster\n",
    "\n",
    "cst = Cluster(\n",
    "    mentat_cwd='D:\\\\knpob\\\\20230613-FE cluster',\n",
    "    hosts_conf='hosts.yml',\n",
    "    )"
   ]
  },
  {
   "cell_type": "code",
   "execution_count": 3,
   "metadata": {},
   "outputs": [],
   "source": [
    "import time\n",
    "from FEcluster import mentat, host, task\n",
    "\n",
    "class Task_test(task.Task):\n",
    "    def mentat(self, mentat_obj: mentat.Mentat):\n",
    "        print(f\"{time.time()} > {self.name}: mentat\")\n",
    "        time.sleep(1)\n",
    "\n",
    "    def job(self):\n",
    "        print(f\"{self.name}: job\")\n",
    "\n",
    "    def watch(self):\n",
    "        print(f\"{self.name}: watch\")\n",
    "\n",
    "task1 = Task_test('task1')\n",
    "task2 = Task_test('task2')\n",
    "task3 = Task_test('task3')"
   ]
  },
  {
   "cell_type": "code",
   "execution_count": 4,
   "metadata": {},
   "outputs": [],
   "source": [
    "cst.launch_mentat_server(\"127.0.0.1\", 40007)"
   ]
  },
  {
   "cell_type": "code",
   "execution_count": 29,
   "metadata": {},
   "outputs": [
    {
     "name": "stdout",
     "output_type": "stream",
     "text": [
      "1687764297.0956092 > task1: mentat\n"
     ]
    },
    {
     "name": "stdout",
     "output_type": "stream",
     "text": [
      "1687764298.0997467 > task2: mentat\n",
      "1687764299.1047206 > task3: mentat\n"
     ]
    }
   ],
   "source": [
    "cst.submit_task(task1)\n",
    "cst.submit_task(task2)\n",
    "cst.submit_task(task3)"
   ]
  },
  {
   "cell_type": "code",
   "execution_count": 12,
   "metadata": {},
   "outputs": [
    {
     "data": {
      "text/plain": [
       "True"
      ]
     },
     "execution_count": 12,
     "metadata": {},
     "output_type": "execute_result"
    }
   ],
   "source": [
    "cst.mentat_queue.empty()"
   ]
  },
  {
   "cell_type": "code",
   "execution_count": null,
   "metadata": {},
   "outputs": [],
   "source": []
  }
 ],
 "metadata": {
  "kernelspec": {
   "display_name": "marc",
   "language": "python",
   "name": "python3"
  },
  "language_info": {
   "codemirror_mode": {
    "name": "ipython",
    "version": 3
   },
   "file_extension": ".py",
   "mimetype": "text/x-python",
   "name": "python",
   "nbconvert_exporter": "python",
   "pygments_lexer": "ipython3",
   "version": "3.6.13"
  },
  "orig_nbformat": 4
 },
 "nbformat": 4,
 "nbformat_minor": 2
}
