{
 "cells": [
  {
   "cell_type": "code",
   "execution_count": 1,
   "metadata": {},
   "outputs": [],
   "source": [
    "# add root folder of the project to path\n",
    "import sys\n",
    "sys.path.insert(0, '..')"
   ]
  },
  {
   "attachments": {},
   "cell_type": "markdown",
   "metadata": {},
   "source": [
    "# Working with `Mentat` interface"
   ]
  },
  {
   "cell_type": "code",
   "execution_count": null,
   "metadata": {},
   "outputs": [],
   "source": [
    "from FEcluster.cluster import Cluster\n",
    "cst = Cluster(cwd='D:\\\\knpob\\\\20230613-FE cluster')"
   ]
  },
  {
   "cell_type": "code",
   "execution_count": null,
   "metadata": {},
   "outputs": [],
   "source": [
    "cst.mentat.connect()\n",
    "cst.mentat.open_model('.\\\\data\\\\base_model_19.mud')"
   ]
  },
  {
   "cell_type": "code",
   "execution_count": null,
   "metadata": {},
   "outputs": [],
   "source": [
    "# adjust hyper-elaster parameters\n",
    "c10 = 0.00015\n",
    "procs = [\n",
    "    '*edit_mater breast',\n",
    "    f'*mater_param structural:mooney_c10 {c10}',\n",
    "    ]\n",
    "cst.mentat.exec_procs(procs)"
   ]
  },
  {
   "cell_type": "code",
   "execution_count": null,
   "metadata": {},
   "outputs": [],
   "source": [
    "# adjust loadcases settings\n",
    "procs = [\n",
    "    '*edit_loadcase lcase1',\n",
    "    '*loadcase_option stepping:fixed',\n",
    "    '*loadcase_value time 0.02',\n",
    "    '*loadcase_value nsteps 2',\n",
    "    '*edit_loadcase lcase2',\n",
    "    '*loadcase_value time 0.02',\n",
    "    '*loadcase_value nsteps 2',\n",
    "    ]\n",
    "cst.mentat.exec_procs(procs)"
   ]
  },
  {
   "cell_type": "code",
   "execution_count": null,
   "metadata": {},
   "outputs": [],
   "source": [
    "cst.mentat.export_dat('.\\\\output\\\\test', 'test')"
   ]
  },
  {
   "cell_type": "code",
   "execution_count": null,
   "metadata": {},
   "outputs": [],
   "source": [
    "# cst.mentat.close_model()\n",
    "# cst.mentat.disconnect()"
   ]
  },
  {
   "attachments": {},
   "cell_type": "markdown",
   "metadata": {},
   "source": [
    "# Distribute simulation tasks"
   ]
  },
  {
   "cell_type": "code",
   "execution_count": 2,
   "metadata": {},
   "outputs": [],
   "source": [
    "hosts_conf = {\n",
    "    'sylvia': {\n",
    "        'addr': '158.132.134.38',\n",
    "        'user': 'knpob',\n",
    "        'marc': 'C:\\\\Program Files\\\\MSC.Software\\\\Marc\\\\2019.0.0\\\\marc2019\\\\tools\\\\run_marc.bat',\n",
    "    },\n",
    "}"
   ]
  },
  {
   "cell_type": "code",
   "execution_count": 3,
   "metadata": {},
   "outputs": [
    {
     "name": "stdout",
     "output_type": "stream",
     "text": [
      "knpob@158.132.134.38:temp\n",
      "\u001b[32m11:13:27 > successful > create remote folder \"D:\\knpob\\temp\"\u001b[0m\n",
      "knpob@158.132.134.38:temp\n",
      "\u001b[32m11:13:27 > successful > remote folder \"D:\\knpob\\temp\" already exists\u001b[0m\n"
     ]
    }
   ],
   "source": [
    "from FEcluster import host\n",
    "session = host.HostSession(\n",
    "    session_name='temp',\n",
    "    addr = \"158.132.134.38\",\n",
    "    user = \"knpob\",\n",
    "    local_cwd=\"D:\\\\knpob\\\\temp\",\n",
    "    remote_cwd=\"D:\\\\knpob\\\\temp\",\n",
    ")"
   ]
  },
  {
   "cell_type": "code",
   "execution_count": null,
   "metadata": {},
   "outputs": [],
   "source": []
  }
 ],
 "metadata": {
  "kernelspec": {
   "display_name": "marc",
   "language": "python",
   "name": "python3"
  },
  "language_info": {
   "codemirror_mode": {
    "name": "ipython",
    "version": 3
   },
   "file_extension": ".py",
   "mimetype": "text/x-python",
   "name": "python",
   "nbconvert_exporter": "python",
   "pygments_lexer": "ipython3",
   "version": "3.6.13"
  },
  "orig_nbformat": 4
 },
 "nbformat": 4,
 "nbformat_minor": 2
}
