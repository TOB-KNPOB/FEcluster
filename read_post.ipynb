{
 "cells": [
  {
   "cell_type": "code",
   "execution_count": 17,
   "metadata": {},
   "outputs": [],
   "source": [
    "import py_post as pp"
   ]
  },
  {
   "cell_type": "code",
   "execution_count": 18,
   "metadata": {},
   "outputs": [
    {
     "name": "stdout",
     "output_type": "stream",
     "text": [
      "node num \t 17153\n",
      "element num \t 10792\n",
      "increment num \t 213\n"
     ]
    }
   ],
   "source": [
    "file = \".\\\\data\\\\example.t16\"\n",
    "results = pp.post_open(file)\n",
    "results.moveto(1)\n",
    "print(\"node num \\t {}\".format(results.nodes()))\n",
    "print(\"element num \\t {}\".format(results.elements()))\n",
    "print(\"increment num \\t {}\".format(results.increments()))"
   ]
  },
  {
   "cell_type": "code",
   "execution_count": 19,
   "metadata": {},
   "outputs": [],
   "source": [
    "data = []\n",
    "\n",
    "for inc_id in range(results.increments()):\n",
    "    results.moveto(inc_id)\n",
    "    points = []\n",
    "\n",
    "    for node_id in range(results.nodes()):\n",
    "        node_loc = [\n",
    "            results.node(node_id).x,\n",
    "            results.node(node_id).y,\n",
    "            results.node(node_id).z,\n",
    "        ]\n",
    "        points.append(node_loc)\n",
    "\n",
    "    data.append(points)"
   ]
  },
  {
   "cell_type": "code",
   "execution_count": 20,
   "metadata": {},
   "outputs": [
    {
     "data": {
      "text/plain": [
       "(213, 17153, 3)"
      ]
     },
     "execution_count": 20,
     "metadata": {},
     "output_type": "execute_result"
    }
   ],
   "source": [
    "import numpy as np\n",
    "data = np.array(data)\n",
    "data.shape"
   ]
  },
  {
   "cell_type": "code",
   "execution_count": 22,
   "metadata": {},
   "outputs": [],
   "source": [
    "np.save('output/example', data)"
   ]
  },
  {
   "cell_type": "code",
   "execution_count": null,
   "metadata": {},
   "outputs": [],
   "source": []
  }
 ],
 "metadata": {
  "kernelspec": {
   "display_name": "marc",
   "language": "python",
   "name": "python3"
  },
  "language_info": {
   "codemirror_mode": {
    "name": "ipython",
    "version": 3
   },
   "file_extension": ".py",
   "mimetype": "text/x-python",
   "name": "python",
   "nbconvert_exporter": "python",
   "pygments_lexer": "ipython3",
   "version": "3.6.13"
  },
  "orig_nbformat": 4
 },
 "nbformat": 4,
 "nbformat_minor": 2
}
